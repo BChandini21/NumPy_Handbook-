{
 "cells": [
  {
   "cell_type": "markdown",
   "id": "f1d4f03d-6a36-40d7-9563-dd7c60670ea2",
   "metadata": {},
   "source": [
    "<b> Introduction to NumPy:</b>"
   ]
  },
  {
   "cell_type": "markdown",
   "id": "03eb858a-e8c7-4957-b724-5e5188e2680d",
   "metadata": {},
   "source": [
    "NumPy, short for Numerical Python, is a fundamental package for scientific computing in Python. It provides support for arrays (multi-dimensional data structures) and matrices, along with a collection of mathematical functions to operate on these arrays. Arrays are more efficient than lists for numerical operations due to their fixed size and homogeneous data type."
   ]
  },
  {
   "cell_type": "markdown",
   "id": "47ba33ed-299c-432c-96c6-71c532596ded",
   "metadata": {},
   "source": [
    "<b> NumPy Array Creation: </b>"
   ]
  },
  {
   "cell_type": "markdown",
   "id": "0d062791-fb68-4f50-905d-411506ab0943",
   "metadata": {},
   "source": [
    "Creating arrays in NumPy can be done in several ways, one of them is converting Python lists."
   ]
  },
  {
   "cell_type": "markdown",
   "id": "9dee126b-cb57-4ac9-8910-6072d5ef4515",
   "metadata": {},
   "source": [
    "<b> -> From Lists: Convert a Python list to a NumPy array </b>"
   ]
  },
  {
   "cell_type": "code",
   "execution_count": 3,
   "id": "37f86a2b-ce5e-4953-a1a6-a7c13c59da59",
   "metadata": {},
   "outputs": [
    {
     "name": "stdout",
     "output_type": "stream",
     "text": [
      "[1 2 3 4 5]\n"
     ]
    }
   ],
   "source": [
    "import numpy as np\n",
    "array_from_list = np.array([1, 2, 3, 4, 5])\n",
    "print(array_from_list)"
   ]
  },
  {
   "cell_type": "markdown",
   "id": "ddd7a28f-5152-4bd9-a1e4-41b532885300",
   "metadata": {},
   "source": [
    "<b> Basic Operations:</b>"
   ]
  },
  {
   "cell_type": "markdown",
   "id": "acc45f48-feea-4fde-a186-67cd2587b61e",
   "metadata": {},
   "source": [
    "NumPy allows element-wise arithmetic operations on arrays, which are executed faster than traditional for-loops in Python. It also supports broadcasting, enabling operations on arrays of different shapes."
   ]
  },
  {
   "cell_type": "markdown",
   "id": "d3e16690-8e2f-4215-9e00-164aab1c23f1",
   "metadata": {},
   "source": [
    "<b>->Arithmetic Operations:</b> Perform element-wise operations"
   ]
  },
  {
   "cell_type": "code",
   "execution_count": 25,
   "id": "95351be8-1a68-47cb-af1f-29568252f5e1",
   "metadata": {},
   "outputs": [
    {
     "name": "stdout",
     "output_type": "stream",
     "text": [
      "[5 7 9]\n"
     ]
    }
   ],
   "source": [
    "a = np.array([1, 2, 3])\n",
    "b = np.array([4, 5, 6])\n",
    "sum_ab = a + b  \n",
    "print(sum_ab)"
   ]
  },
  {
   "cell_type": "markdown",
   "id": "0b97ddfd-2497-44b1-9969-99141a4f79eb",
   "metadata": {},
   "source": [
    "<b>->Broadcasting:</b> Automatically expand dimensions for operations"
   ]
  },
  {
   "cell_type": "code",
   "execution_count": 26,
   "id": "ee6d04af-f3be-4fdf-ad7d-1aaeae2e385b",
   "metadata": {},
   "outputs": [
    {
     "name": "stdout",
     "output_type": "stream",
     "text": [
      "[2 4 6]\n"
     ]
    }
   ],
   "source": [
    "a = np.array([1, 2, 3])\n",
    "b = 2\n",
    "product_ab = a * b  \n",
    "print(product_ab)"
   ]
  },
  {
   "cell_type": "markdown",
   "id": "e1e6305a-fae3-43c9-99c7-c57b51a08f96",
   "metadata": {},
   "source": [
    "<b>Array Properties:</b>"
   ]
  },
  {
   "cell_type": "markdown",
   "id": "4034f7aa-a0a0-4b95-9b9a-93f3a45a7b33",
   "metadata": {},
   "source": [
    "Arrays have various properties such as size and data type, which provide important information about the array structure and content."
   ]
  },
  {
   "cell_type": "markdown",
   "id": "d362f703-4c24-49d0-a42d-b235bf349ce0",
   "metadata": {},
   "source": [
    "<b>->Size:</b> The total number of elements"
   ]
  },
  {
   "cell_type": "code",
   "execution_count": 28,
   "id": "331f1756-0111-4835-942f-95a266c3e8dd",
   "metadata": {},
   "outputs": [
    {
     "name": "stdout",
     "output_type": "stream",
     "text": [
      "5\n"
     ]
    }
   ],
   "source": [
    "array_size = array_from_list.size  \n",
    "print(array_size )"
   ]
  },
  {
   "cell_type": "markdown",
   "id": "768c35f8-695c-4279-a892-8e02b9eb67dd",
   "metadata": {},
   "source": [
    "<b>->Data Type:</b> The type of elements in the array"
   ]
  },
  {
   "cell_type": "code",
   "execution_count": 29,
   "id": "86277ec5-dcf1-4584-8232-c6980afb0ce8",
   "metadata": {},
   "outputs": [
    {
     "name": "stdout",
     "output_type": "stream",
     "text": [
      "int32\n"
     ]
    }
   ],
   "source": [
    "array_dtype = array_from_list.dtype \n",
    "print(array_dtype)"
   ]
  },
  {
   "cell_type": "markdown",
   "id": "e487056b-d986-4847-b884-48cd284a917b",
   "metadata": {},
   "source": [
    "<b> Data Manipulation:</b>"
   ]
  },
  {
   "cell_type": "markdown",
   "id": "cf7f713f-0e4f-49aa-bb76-c86259f426b4",
   "metadata": {},
   "source": [
    "Data manipulation in NumPy involves creating arrays, accessing elements through indexing, extracting subarrays via slicing, reshaping arrays, and applying mathematical operations. These operations enable efficient data processing and transformation.\n",
    "\n",
    "<b>Array Creation:</b>\n",
    "Creating arrays is the first step in data manipulation. Arrays can be created from lists, tuples, or other array-like structures. Arrays can also be initialized with specific values using functions like np.zeros(), np.ones(), and np.full()."
   ]
  },
  {
   "cell_type": "code",
   "execution_count": 42,
   "id": "ccaba731-0abd-4e32-83f7-55196d38c088",
   "metadata": {},
   "outputs": [
    {
     "name": "stdout",
     "output_type": "stream",
     "text": [
      "[1 2 3 4 5]\n",
      "[[1 2 3]\n",
      " [4 5 6]]\n"
     ]
    }
   ],
   "source": [
    "import numpy as np\n",
    "array_1d = np.array([1, 2, 3, 4, 5])\n",
    "array_2d = np.array([[1, 2, 3], [4, 5, 6]])\n",
    "print(array_1d)\n",
    "print(array_2d)"
   ]
  },
  {
   "cell_type": "markdown",
   "id": "458480d9-fae6-4375-8144-ae06bfc233ab",
   "metadata": {},
   "source": [
    "<b>NumPy Array Indexing: </b>"
   ]
  },
  {
   "cell_type": "markdown",
   "id": "55d4ff10-ba8c-4339-a478-d77fed539da3",
   "metadata": {},
   "source": [
    "Array indexing is the same as accessing an array element.You can access an array element by referring to its index number.The indexes in NumPy arrays start with 0, meaning that the first element has index 0, and the second has index 1 etc."
   ]
  },
  {
   "cell_type": "code",
   "execution_count": 31,
   "id": "a94847e3-064d-4e58-b9a7-4e6781a58fe7",
   "metadata": {},
   "outputs": [
    {
     "name": "stdout",
     "output_type": "stream",
     "text": [
      "1\n"
     ]
    }
   ],
   "source": [
    "#Get the first element from the following array:\n",
    "import numpy as np\n",
    "arr = np.array([1, 2, 3, 4])\n",
    "print(arr[0])"
   ]
  },
  {
   "cell_type": "code",
   "execution_count": 32,
   "id": "8d53e29d-0929-4fdf-a190-d240acfad860",
   "metadata": {},
   "outputs": [
    {
     "name": "stdout",
     "output_type": "stream",
     "text": [
      "2\n"
     ]
    }
   ],
   "source": [
    "#Get the second element from the following array:\n",
    "import numpy as np\n",
    "arr = np.array([1, 2, 3, 4])\n",
    "print(arr[1])"
   ]
  },
  {
   "cell_type": "markdown",
   "id": "e6f018f6-0e02-4425-98ff-201a0f921de2",
   "metadata": {},
   "source": [
    "<b>NumPy Array Slicing:</b>"
   ]
  },
  {
   "cell_type": "markdown",
   "id": "786b5b5d-4bb1-47a5-99bd-8c2a5d53395b",
   "metadata": {},
   "source": [
    "Slicing in python means taking elements from one given index to another given index. We pass slice instead of index like this: [start:end]. We can also define the step, like this: [start:end:step]. If we don't pass start its considered 0, If we don't pass end its considered length of array in that dimension, If we don't pass step its considered 1."
   ]
  },
  {
   "cell_type": "code",
   "execution_count": 33,
   "id": "7dda4620-828a-448b-bf61-359f05e218fa",
   "metadata": {},
   "outputs": [
    {
     "name": "stdout",
     "output_type": "stream",
     "text": [
      "[2 3 4 5]\n"
     ]
    }
   ],
   "source": [
    "#Slice elements from index 1 to index 5 from the following array:\n",
    "import numpy as np\n",
    "arr = np.array([1, 2, 3, 4, 5, 6, 7])\n",
    "print(arr[1:5])"
   ]
  },
  {
   "cell_type": "code",
   "execution_count": 34,
   "id": "0d1dc7dc-b1eb-4c05-aba8-4659e653e38b",
   "metadata": {},
   "outputs": [
    {
     "name": "stdout",
     "output_type": "stream",
     "text": [
      "[1 2 3 4]\n"
     ]
    }
   ],
   "source": [
    "#Slice elements from the beginning to index 4 (not included):\n",
    "import numpy as np\n",
    "arr = np.array([1, 2, 3, 4, 5, 6, 7])\n",
    "print(arr[:4])"
   ]
  },
  {
   "cell_type": "code",
   "execution_count": 35,
   "id": "cbfa9995-34e2-46a3-a506-0d5544537357",
   "metadata": {},
   "outputs": [
    {
     "name": "stdout",
     "output_type": "stream",
     "text": [
      "[5 6 7]\n"
     ]
    }
   ],
   "source": [
    "#Slice elements from index 4 to the end of the array:\n",
    "import numpy as np\n",
    "arr = np.array([1, 2, 3, 4, 5, 6, 7])\n",
    "print(arr[4:])"
   ]
  },
  {
   "cell_type": "markdown",
   "id": "c9564fee-90eb-4823-9c83-33f7879429ee",
   "metadata": {},
   "source": [
    "<b>Negative Slicing:</b>Use the minus operator to refer to an index from the end"
   ]
  },
  {
   "cell_type": "code",
   "execution_count": 36,
   "id": "ff20990c-99e3-4d74-bb9d-3a0f4db2fec0",
   "metadata": {},
   "outputs": [
    {
     "name": "stdout",
     "output_type": "stream",
     "text": [
      "[5 6]\n"
     ]
    }
   ],
   "source": [
    "#Slice from the index 3 from the end to index 1 from the end:\n",
    "import numpy as np\n",
    "arr = np.array([1, 2, 3, 4, 5, 6, 7])\n",
    "print(arr[-3:-1])"
   ]
  },
  {
   "cell_type": "markdown",
   "id": "b0640d3e-c9e1-4222-b5a5-33c7649951b3",
   "metadata": {},
   "source": [
    "<b>Step:</b>"
   ]
  },
  {
   "cell_type": "code",
   "execution_count": 37,
   "id": "4d9a8636-2787-45e1-80af-cd1d1b5bb4e1",
   "metadata": {},
   "outputs": [
    {
     "name": "stdout",
     "output_type": "stream",
     "text": [
      "[2 4]\n"
     ]
    }
   ],
   "source": [
    "#Return every other element from index 1 to index 5:\n",
    "import numpy as np\n",
    "arr = np.array([1, 2, 3, 4, 5, 6, 7])\n",
    "print(arr[1:5:2])"
   ]
  },
  {
   "cell_type": "code",
   "execution_count": 38,
   "id": "ffa445f6-eddc-40e3-8330-e1e66dc2ba7d",
   "metadata": {},
   "outputs": [
    {
     "name": "stdout",
     "output_type": "stream",
     "text": [
      "[1 3 5 7]\n"
     ]
    }
   ],
   "source": [
    "#Return every other element from the entire array:\n",
    "import numpy as np\n",
    "arr = np.array([1, 2, 3, 4, 5, 6, 7])\n",
    "print(arr[::2])"
   ]
  },
  {
   "cell_type": "markdown",
   "id": "d7850e85-8cee-4f0c-a303-7cd20bf93e06",
   "metadata": {},
   "source": [
    "<b>Reshaping: </b>"
   ]
  },
  {
   "cell_type": "markdown",
   "id": "742f4e5e-97cc-47c6-be50-b1cdfdad6470",
   "metadata": {},
   "source": [
    "Reshaping changes the shape of the array without altering its data. This is useful for converting one-dimensional arrays to multi-dimensional arrays and vice versa."
   ]
  },
  {
   "cell_type": "code",
   "execution_count": 43,
   "id": "9c502b70-2b97-4b8a-9faa-3c3e983eb426",
   "metadata": {},
   "outputs": [
    {
     "name": "stdout",
     "output_type": "stream",
     "text": [
      "[[1 2 3 4 5]]\n"
     ]
    }
   ],
   "source": [
    "reshaped_array = array_1d.reshape(1, 5)\n",
    "print(reshaped_array)"
   ]
  },
  {
   "cell_type": "markdown",
   "id": "9fd06af4-82f0-4722-b258-ee36dd2a54e4",
   "metadata": {},
   "source": [
    "<b>Mathematical Operations:</b>"
   ]
  },
  {
   "cell_type": "markdown",
   "id": "645cf784-4c14-485a-848d-dbe92abc7c3e",
   "metadata": {},
   "source": [
    "Mathematical operations like addition, subtraction, multiplication, and division can be applied element-wise on arrays. NumPy also provides functions for more complex operations like trigonometry, logarithms, and exponentiation.\n",
    "\n",
    "<b>Element-wise Operations</b>\n",
    "\n",
    "Element-wise operations in NumPy are performed directly between arrays of the same shape. These operations include addition, subtraction, multiplication, and division. NumPy also supports more complex mathematical functions such as trigonometric functions, logarithms, and exponentiation, which can be applied element-wise to arrays.\n",
    "\n",
    "<b>Addition (+ or np.add()):</b> Adds corresponding elements of two arrays.\n",
    "\n",
    "<b>Subtraction (- or np.subtract()):</b> Subtracts corresponding elements of two arrays.\n",
    "\n",
    "<b>Multiplication (* or np.multiply()):</b> Multiplies corresponding elements of two arrays.\n",
    "\n",
    "<b>Division (/ or np.divide()):</b> Divides corresponding elements of two arrays.\n",
    "\n",
    "<b>Complex Operations</b>\n",
    "\n",
    "<b>Trigonometric Functions (np.sin(), np.cos(), np.tan()):</b> Compute the sine, cosine, and tangent of each element.\n",
    "\n",
    "<b>Logarithmic Functions (np.log(), np.log10()):</b> Compute the natural logarithm or the base-10 logarithm of each element.\n",
    "\n",
    "<b>Exponentiation (np.exp()):</b> Compute the exponential (e^x) of each element."
   ]
  },
  {
   "cell_type": "code",
   "execution_count": 54,
   "id": "d1d7269a-9678-4452-8e6e-853f35d0a225",
   "metadata": {},
   "outputs": [
    {
     "name": "stdout",
     "output_type": "stream",
     "text": [
      "Addition: [11 22 33 44 55]\n",
      "Subtraction: [ -9 -18 -27 -36 -45]\n",
      "Multiplication: [ 10  40  90 160 250]\n",
      "Division: [0.1 0.1 0.1 0.1 0.1]\n",
      "Sine: [ 0.84147098  0.90929743  0.14112001 -0.7568025  -0.95892427]\n",
      "Cosine: [ 0.54030231 -0.41614684 -0.9899925  -0.65364362  0.28366219]\n",
      "Tangent: [ 1.55740772 -2.18503986 -0.14254654  1.15782128 -3.38051501]\n",
      "Natural Logarithm: [0.         0.69314718 1.09861229 1.38629436 1.60943791]\n",
      "Base-10 Logarithm: [0.         0.30103    0.47712125 0.60205999 0.69897   ]\n",
      "Exponential: [  2.71828183   7.3890561   20.08553692  54.59815003 148.4131591 ]\n"
     ]
    }
   ],
   "source": [
    "import numpy as np\n",
    "\n",
    "# Creating sample arrays\n",
    "array1 = np.array([1, 2, 3, 4, 5])\n",
    "array2 = np.array([10, 20, 30, 40, 50])\n",
    "\n",
    "# Element-wise addition\n",
    "addition_result = np.add(array1, array2)\n",
    "print(\"Addition:\", addition_result)  \n",
    "\n",
    "# Element-wise subtraction\n",
    "subtraction_result = np.subtract(array1, array2)\n",
    "print(\"Subtraction:\", subtraction_result)  \n",
    "\n",
    "# Element-wise multiplication\n",
    "multiplication_result = np.multiply(array1, array2)\n",
    "print(\"Multiplication:\", multiplication_result)  \n",
    "\n",
    "# Element-wise division\n",
    "division_result = np.divide(array1, array2)\n",
    "print(\"Division:\", division_result)  \n",
    "\n",
    "# Trigonometric functions\n",
    "sin_result = np.sin(array1)\n",
    "print(\"Sine:\", sin_result)  \n",
    "\n",
    "cos_result = np.cos(array1)\n",
    "print(\"Cosine:\", cos_result) \n",
    "\n",
    "tan_result = np.tan(array1)\n",
    "print(\"Tangent:\", tan_result)  \n",
    "\n",
    "# Logarithmic functions\n",
    "log_result = np.log(array1)\n",
    "print(\"Natural Logarithm:\", log_result)  \n",
    "\n",
    "log10_result = np.log10(array1)\n",
    "print(\"Base-10 Logarithm:\", log10_result) \n",
    "\n",
    "# Exponentiation\n",
    "exp_result = np.exp(array1)\n",
    "print(\"Exponential:\", exp_result)  \n"
   ]
  },
  {
   "cell_type": "markdown",
   "id": "8ddff2bc-155b-4316-a492-0fce6cb3d641",
   "metadata": {},
   "source": [
    "<b>Data Aggregation:</b>\n",
    "Data aggregation involves computing summary statistics, such as mean, median, standard deviation, and sum. These functions provide insights into the dataset and help summarize data concisely.\n",
    "\n",
    "<b>->Summary Statistics:</b>\n",
    "Summary statistics provide a quick overview of the data, highlighting central tendencies, dispersion, and overall range. Functions like np.mean(), np.median(), and np.std() are used for this purpose."
   ]
  },
  {
   "cell_type": "code",
   "execution_count": 55,
   "id": "154ea4eb-1a21-45d0-a5e4-4ca1c5137993",
   "metadata": {},
   "outputs": [
    {
     "name": "stdout",
     "output_type": "stream",
     "text": [
      "3.0\n",
      "3.5\n",
      "1.707825127659933\n"
     ]
    }
   ],
   "source": [
    "mean = np.mean(array_1d)  \n",
    "median = np.median(array_2d)  \n",
    "std_dev = np.std(array_2d)  \n",
    "print(mean)\n",
    "print(median)\n",
    "print(std_dev)"
   ]
  },
  {
   "cell_type": "markdown",
   "id": "6f25f67a-bd3f-4caa-abe4-fd5bc4350ced",
   "metadata": {},
   "source": [
    "<b>Grouping Data and Aggregations:</b>"
   ]
  },
  {
   "cell_type": "markdown",
   "id": "3cf80cef-ad65-4a8f-8f6f-47c900a6d21b",
   "metadata": {},
   "source": [
    "Grouping data and performing aggregations on groups can reveal patterns and relationships within the data. The np.unique() function helps identify unique elements and their counts in the array."
   ]
  },
  {
   "cell_type": "code",
   "execution_count": 53,
   "id": "459e4ed5-0f32-4f16-86c1-c7d380382a00",
   "metadata": {},
   "outputs": [
    {
     "name": "stdout",
     "output_type": "stream",
     "text": [
      "[1 2 2 3 3 3 4]\n",
      "[1 2 3 4] [1 2 3 1]\n"
     ]
    }
   ],
   "source": [
    "grouped_data = np.array([1, 2, 2, 3, 3, 3, 4])\n",
    "unique_elements, counts = np.unique(grouped_data, return_counts=True)\n",
    "print(grouped_data)\n",
    "print(unique_elements, counts )"
   ]
  },
  {
   "cell_type": "markdown",
   "id": "5a96a8de-3ade-4122-be85-54c3b7b1296e",
   "metadata": {},
   "source": [
    "<b>Data Analysis:</b>\n",
    "\n",
    "Data analysis in NumPy includes finding correlations, identifying outliers, and calculating percentiles. These operations help uncover relationships, detect anomalies, and understand data distribution.\n",
    "\n",
    "<b>->Correlation:</b>\n",
    "Correlation measures the linear relationship between two datasets. The np.corrcoef() function returns the correlation coefficient matrix, indicating the strength and direction of the relationship."
   ]
  },
  {
   "cell_type": "code",
   "execution_count": 47,
   "id": "3bfa1750-6931-40ea-8516-52e2d5610fd9",
   "metadata": {},
   "outputs": [
    {
     "name": "stdout",
     "output_type": "stream",
     "text": [
      "[[ 1. -1.]\n",
      " [-1.  1.]]\n"
     ]
    }
   ],
   "source": [
    "array_3 = np.array([1, 2, 3, 4, 5])\n",
    "array_4 = np.array([5, 4, 3, 2, 1])\n",
    "correlation = np.corrcoef(array_3, array_4)\n",
    "print(correlation )"
   ]
  },
  {
   "cell_type": "markdown",
   "id": "4ce31fb7-1287-4252-83ba-8c11370e6255",
   "metadata": {},
   "source": [
    "<b>Identifying Outliers:</b>\n",
    "Outliers are data points that differ significantly from other observations. Identifying outliers is crucial for data cleaning and ensuring accurate analysis. The standard deviation method is commonly used to detect outliers."
   ]
  },
  {
   "cell_type": "code",
   "execution_count": 48,
   "id": "920e34ca-0159-477e-b8dc-b8c5527c911e",
   "metadata": {},
   "outputs": [
    {
     "name": "stdout",
     "output_type": "stream",
     "text": [
      "23.75\n",
      "28.873647154455565\n",
      "[100]\n"
     ]
    }
   ],
   "source": [
    "data = np.array([10, 12, 12, 13, 12, 15, 16, 100])\n",
    "mean = np.mean(data)\n",
    "std_dev = np.std(data)\n",
    "outliers = data[np.abs(data - mean) > 2 * std_dev]\n",
    "print(mean )\n",
    "print(std_dev)\n",
    "print(outliers)"
   ]
  },
  {
   "cell_type": "markdown",
   "id": "755708d1-27da-468b-999b-c453cc5da00d",
   "metadata": {},
   "source": [
    "<b>Percentiles:</b>\n",
    "Percentiles indicate the relative standing of a value within a dataset. The np.percentile() function computes the percentiles, providing insights into the data distribution."
   ]
  },
  {
   "cell_type": "code",
   "execution_count": 50,
   "id": "fdb2374b-9472-4706-89f4-7d78330d7f2f",
   "metadata": {},
   "outputs": [
    {
     "name": "stdout",
     "output_type": "stream",
     "text": [
      "12.0\n",
      "12.5\n",
      "15.25\n"
     ]
    }
   ],
   "source": [
    "percentile_25 = np.percentile(data, 25)  \n",
    "percentile_50 = np.percentile(data, 50)  \n",
    "percentile_75 = np.percentile(data, 75)  \n",
    "print(percentile_25)\n",
    "print(percentile_50)\n",
    "print(percentile_75)"
   ]
  },
  {
   "cell_type": "markdown",
   "id": "6b983e50-3215-4f4a-b4a1-36ec4152a7a9",
   "metadata": {},
   "source": [
    "<b>Application in Data Science:</b>\n",
    "\n",
    "NumPy's capabilities make it an essential tool for data science professionals. Its efficient handling of numerical computations, large datasets, and mathematical functions provides a strong foundation for data analysis, machine learning, financial analysis, and scientific research.\n",
    "\n",
    "<b>Advantages of NumPy:</b>\n",
    "\n",
    "<b>Performance:</b> NumPy arrays are faster and more efficient than Python lists, making it ideal for numerical operations.\n",
    "\n",
    "<b>Functionality:</b> Provides a wide range of mathematical functions and operations, enabling complex calculations.\n",
    "\n",
    "<b>Scalability:</b> Can handle large datasets with ease, crucial for data-intensive fields like machine learning and big data analysis.\n",
    "\n",
    "<b>Real-World Applications:</b>\n",
    "\n",
    "<b>Machine Learning:</b> NumPy is used for data preprocessing, creating datasets, and performing mathematical operations on data.\n",
    "\n",
    "<b>Financial Analysis:</b> Helps in performing complex financial calculations, such as portfolio optimization and risk assessment.\n",
    "\n",
    "<b>Scientific Research:</b> Widely used in scientific computing for simulations, data analysis, and visualization."
   ]
  },
  {
   "cell_type": "code",
   "execution_count": null,
   "id": "5cce8a82-e125-417a-83e7-e5a733224733",
   "metadata": {},
   "outputs": [],
   "source": []
  }
 ],
 "metadata": {
  "kernelspec": {
   "display_name": "Python 3 (ipykernel)",
   "language": "python",
   "name": "python3"
  },
  "language_info": {
   "codemirror_mode": {
    "name": "ipython",
    "version": 3
   },
   "file_extension": ".py",
   "mimetype": "text/x-python",
   "name": "python",
   "nbconvert_exporter": "python",
   "pygments_lexer": "ipython3",
   "version": "3.12.4"
  }
 },
 "nbformat": 4,
 "nbformat_minor": 5
}
